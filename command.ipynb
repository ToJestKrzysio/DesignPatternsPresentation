{
 "cells": [
  {
   "cell_type": "markdown",
   "metadata": {
    "collapsed": true,
    "pycharm": {
     "name": "#%% md\n"
    }
   },
   "source": [
    "# Use-case\n",
    "Encapsulates an operation, allows for queueing operations or undoing them. Also knows as action or transaction.\n",
    "\n",
    "# Situation when usage is suggested\n",
    "* Parameterization of objects using actions.\n",
    "* Creation of queues in programs, managing commands in different process.\n",
    "* Undoing changes to the data.\n",
    "* Registering changes done to reapply them if necessary.\n",
    "* Creation of groups of actions that have to be executed all together or none at all (transactions).\n",
    "\n",
    "# Structure\n",
    "![title](img/command.jpg)\n",
    "By Vanderjoe - Own work, CC BY-SA 4.0, https://commons.wikimedia.org/w/index.php?curid=62530466\n",
    "\n",
    "# Implementation\n"
   ]
  },
  {
   "cell_type": "code",
   "execution_count": 52,
   "outputs": [
    {
     "name": "stdout",
     "output_type": "stream",
     "text": [
      "        id\n"
     ]
    }
   ],
   "source": [
    "import json\n",
    "\n",
    "\n",
    "class Database:\n",
    "    content: dict[str, list]\n",
    "\n",
    "    def __init__(self):\n",
    "        with open(\"db.json\", \"r+\") as db:\n",
    "            self.content = json.load(db)\n",
    "            self.id = self.content[\"data\"][-1][0] if self.content[\"data\"] else 1\n",
    "\n",
    "    def save(self):\n",
    "        with open(\"db.json\", \"w\") as db:\n",
    "            json.dump(self.content ,db)\n",
    "\n",
    "    def add_record(self, *args):\n",
    "        if len(args) != len(self.content[\"header\"])-1:\n",
    "            raise IOError\n",
    "        self.id += 1\n",
    "        self.content[\"data\"].append([self.id, *args])\n",
    "\n",
    "    def remove_record(self, row_id: int):\n",
    "        self.content[\"data\"].pop(row_id-1)\n",
    "        for idx, row in enumerate(self.content[\"data\"], start=1):\n",
    "            row[0] = idx\n",
    "\n",
    "    def add_column(self, name, default):\n",
    "        self.content[\"header\"].append(name)\n",
    "        for row in self.content[\"data\"]:\n",
    "            row.append(default)\n",
    "\n",
    "    def remove_column(self, name):\n",
    "        if name == \"id\":\n",
    "            raise ValueError\n",
    "        column_id = self.content[\"header\"].index(name)\n",
    "        self.content[\"header\"].pop(column_id)\n",
    "        for row in self.content[\"data\"]:\n",
    "            row.pop(column_id)\n",
    "\n",
    "    def show(self):\n",
    "        header_line = \" | \".join(f\"{header:>10}\" for header in self.content[\"header\"])\n",
    "        lines = [header_line]\n",
    "        for row in self.content[\"data\"]:\n",
    "            lines.append(\" | \".join(f\"{value:>10}\" for value in row))\n",
    "        print(\"\\n\".join(lines))\n",
    "\n",
    "db = Database()\n",
    "db.show()"
   ],
   "metadata": {
    "collapsed": false,
    "pycharm": {
     "name": "#%%\n"
    }
   }
  },
  {
   "cell_type": "code",
   "execution_count": 30,
   "outputs": [],
   "source": [
    "class Command:\n",
    "\n",
    "    def execute:\n",
    "        pass\n"
   ],
   "metadata": {
    "collapsed": false,
    "pycharm": {
     "name": "#%%\n"
    }
   }
  }
 ],
 "metadata": {
  "kernelspec": {
   "display_name": "Python 3",
   "language": "python",
   "name": "python3"
  },
  "language_info": {
   "codemirror_mode": {
    "name": "ipython",
    "version": 2
   },
   "file_extension": ".py",
   "mimetype": "text/x-python",
   "name": "python",
   "nbconvert_exporter": "python",
   "pygments_lexer": "ipython2",
   "version": "2.7.6"
  }
 },
 "nbformat": 4,
 "nbformat_minor": 0
}