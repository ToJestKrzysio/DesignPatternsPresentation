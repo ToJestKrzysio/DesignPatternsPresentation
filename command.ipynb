{
 "cells": [
  {
   "cell_type": "markdown",
   "metadata": {
    "collapsed": true,
    "pycharm": {
     "name": "#%% md\n"
    }
   },
   "source": [
    "# Use-case\n",
    "Encapsulates an operation, allows for queueing operations or undoing them. Also knows as action or transaction.\n",
    "\n",
    "# Situation when usage is suggested\n",
    "* Parameterization of objects using actions.\n",
    "* Creation of queues in programs, managing commands in different process.\n",
    "* Undoing changes to the data.\n",
    "* Registering changes done to reapply them if necessary.\n",
    "* Creation of groups of actions that have to be executed all together or none at all (transactions).\n",
    "\n",
    "# Structure\n",
    "![title](img/command.jpg)\n",
    "By Vanderjoe - Own work, CC BY-SA 4.0, https://commons.wikimedia.org/w/index.php?curid=62530466\n",
    "\n",
    "# Implementation\n"
   ]
  },
  {
   "cell_type": "code",
   "execution_count": 113,
   "outputs": [
    {
     "name": "stdout",
     "output_type": "stream",
     "text": [
      "        id\n"
     ]
    }
   ],
   "source": [
    "import json\n",
    "\n",
    "\n",
    "class Database:\n",
    "    content: dict[str, list]\n",
    "\n",
    "    def __init__(self):\n",
    "        with open(\"db.json\", \"r+\") as db:\n",
    "            self.content = json.load(db)\n",
    "            self.id = self.content[\"data\"][-1][0] if self.content[\"data\"] else 0\n",
    "\n",
    "    def save(self):\n",
    "        with open(\"db.json\", \"w\") as db:\n",
    "            json.dump(self.content ,db)\n",
    "\n",
    "    def add_record(self, *args):\n",
    "        if len(args) != len(self.content[\"header\"])-1:\n",
    "            raise ValueError(\"Wrong number of values\")\n",
    "        self.id += 1\n",
    "        self.content[\"data\"].append([self.id, *args])\n",
    "\n",
    "    def remove_record(self, row_id: int):\n",
    "        self.content[\"data\"].pop(row_id-1)\n",
    "        for idx, row in enumerate(self.content[\"data\"], start=1):\n",
    "            row[0] = idx\n",
    "\n",
    "    def add_column(self, name, default):\n",
    "        self.content[\"header\"].append(name)\n",
    "        for row in self.content[\"data\"]:\n",
    "            row.append(default)\n",
    "\n",
    "    def remove_column(self, name):\n",
    "        if name == \"id\":\n",
    "            raise ValueError\n",
    "        column_id = self.content[\"header\"].index(name)\n",
    "        self.content[\"header\"].pop(column_id)\n",
    "        for row in self.content[\"data\"]:\n",
    "            row.pop(column_id)\n",
    "\n",
    "    def show(self):\n",
    "        header_line = \" | \".join(f\"{header:>10}\" for header in self.content[\"header\"])\n",
    "        lines = [header_line]\n",
    "        for row in self.content[\"data\"]:\n",
    "            lines.append(\" | \".join(f\"{value:>10}\" for value in row))\n",
    "        print(\"\\n\".join(lines))\n",
    "\n",
    "\n",
    "db = Database()\n",
    "db.show()"
   ],
   "metadata": {
    "collapsed": false,
    "pycharm": {
     "name": "#%%\n"
    }
   }
  },
  {
   "cell_type": "code",
   "execution_count": 63,
   "outputs": [],
   "source": [
    "from abc import ABC, abstractmethod\n",
    "\n",
    "\n",
    "class Command(ABC):\n",
    "\n",
    "    @abstractmethod\n",
    "    def execute(self, database: Database):\n",
    "        pass\n",
    "\n",
    "    @abstractmethod\n",
    "    def undo(self, database: Database):\n",
    "        pass\n"
   ],
   "metadata": {
    "collapsed": false,
    "pycharm": {
     "name": "#%%\n"
    }
   }
  },
  {
   "cell_type": "code",
   "execution_count": 137,
   "outputs": [],
   "source": [
    "from enum import Enum\n",
    "\n",
    "\n",
    "class DatabaseCommand(Command):\n",
    "    class Action(Enum):\n",
    "        ADD_COLUMN = 0\n",
    "        REMOVE_COLUMN = 1\n",
    "        ADD_RECORD = 2\n",
    "        REMOVE_RECORD = 3\n",
    "\n",
    "    def __init__(self, action, *args, **kwargs):\n",
    "        self.action = action\n",
    "        self.args = args\n",
    "        self.kwargs = kwargs\n",
    "\n",
    "    def execute(self, database: Database):\n",
    "        if self.action == self.Action.ADD_COLUMN:\n",
    "            database.add_column(*self.args, **self.kwargs)\n",
    "        if self.action == self.Action.REMOVE_COLUMN:\n",
    "            database.remove_column(*self.args, **self.kwargs)\n",
    "        if self.action == self.Action.ADD_RECORD:\n",
    "            database.add_record(*self.args)\n",
    "        if self.action == self.Action.REMOVE_RECORD:\n",
    "            database.remove_record(*self.args, **self.kwargs)\n",
    "\n",
    "    def undo(self, database: Database):\n",
    "        if self.action == self.Action.ADD_COLUMN:\n",
    "            database.remove_column(self.kwargs[\"name\"])\n",
    "        if self.action == self.Action.REMOVE_COLUMN:\n",
    "            raise TypeError(\"Cannot reverse this operation\")\n",
    "        if self.action == self.Action.ADD_RECORD:\n",
    "            database.remove_record(0)\n",
    "        if self.action == self.Action.REMOVE_RECORD:\n",
    "            raise TypeError(\"Cannot reverse this operation\")\n",
    "\n",
    "\n",
    "class DatabaseCompositeCommand(Command, list):\n",
    "\n",
    "    def __init__(self, items=None):\n",
    "        super().__init__()\n",
    "        items = items or []\n",
    "        for item in items:\n",
    "            self.append(item)\n",
    "\n",
    "    def execute(self, database: Database):\n",
    "        for command in self:\n",
    "            command.execute(database)\n",
    "\n",
    "    def undo(self, database: Database):\n",
    "        for command in self:\n",
    "            command.undo(database)\n"
   ],
   "metadata": {
    "collapsed": false,
    "pycharm": {
     "name": "#%%\n"
    }
   }
  },
  {
   "cell_type": "code",
   "execution_count": 131,
   "outputs": [
    {
     "name": "stdout",
     "output_type": "stream",
     "text": [
      "        id |       name\n",
      "         1 |      Jonny\n"
     ]
    }
   ],
   "source": [
    "db = Database()\n",
    "command_1 = DatabaseCommand(DatabaseCommand.Action.ADD_COLUMN, name=\"name\", default=\"John\")\n",
    "command_2 = DatabaseCommand(DatabaseCommand.Action.ADD_RECORD, \"Jane\")\n",
    "command_3 = DatabaseCommand(DatabaseCommand.Action.ADD_RECORD, \"Jonny\")\n",
    "\n",
    "command_1.execute(db)\n",
    "command_2.execute(db)\n",
    "command_3.execute(db)\n",
    "db.show()"
   ],
   "metadata": {
    "collapsed": false,
    "pycharm": {
     "name": "#%%\n"
    }
   }
  },
  {
   "cell_type": "code",
   "execution_count": 132,
   "outputs": [
    {
     "name": "stdout",
     "output_type": "stream",
     "text": [
      "        id |       name\n",
      "         1 |       Jane\n",
      "         2 |      Jonny\n"
     ]
    }
   ],
   "source": [
    "db2 = Database()\n",
    "command_1.execute(db2)\n",
    "command_2.execute(db2)\n",
    "command_3.execute(db2)\n",
    "db2.show()"
   ],
   "metadata": {
    "collapsed": false,
    "pycharm": {
     "name": "#%%\n"
    }
   }
  },
  {
   "cell_type": "code",
   "execution_count": 138,
   "outputs": [
    {
     "name": "stdout",
     "output_type": "stream",
     "text": [
      "        id |       name\n",
      "         1 |       Jane\n",
      "         2 |      Jonny\n"
     ]
    }
   ],
   "source": [
    "db3 = Database()\n",
    "composite_command = DatabaseCompositeCommand([command_1, command_2, command_3])\n",
    "composite_command.execute(db3)\n",
    "db3.show()\n"
   ],
   "metadata": {
    "collapsed": false,
    "pycharm": {
     "name": "#%%\n"
    }
   }
  },
  {
   "cell_type": "code",
   "execution_count": 139,
   "outputs": [
    {
     "name": "stdout",
     "output_type": "stream",
     "text": [
      "        id |       name\n",
      "         1 |       Jane\n",
      "         2 |      Jonny\n"
     ]
    }
   ],
   "source": [
    "db4 = Database()\n",
    "composite_command.execute(db4)\n",
    "db4.show()\n"
   ],
   "metadata": {
    "collapsed": false,
    "pycharm": {
     "name": "#%%\n"
    }
   }
  },
  {
   "cell_type": "code",
   "execution_count": null,
   "outputs": [],
   "source": [],
   "metadata": {
    "collapsed": false,
    "pycharm": {
     "name": "#%%\n"
    }
   }
  }
 ],
 "metadata": {
  "kernelspec": {
   "display_name": "Python 3",
   "language": "python",
   "name": "python3"
  },
  "language_info": {
   "codemirror_mode": {
    "name": "ipython",
    "version": 2
   },
   "file_extension": ".py",
   "mimetype": "text/x-python",
   "name": "python",
   "nbconvert_exporter": "python",
   "pygments_lexer": "ipython2",
   "version": "2.7.6"
  }
 },
 "nbformat": 4,
 "nbformat_minor": 0
}