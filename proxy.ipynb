{
 "cells": [
  {
   "cell_type": "markdown",
   "metadata": {
    "collapsed": true,
    "pycharm": {
     "name": "#%% md\n"
    }
   },
   "source": [
    "# Use-case\n",
    "Provides replacement/interface to a different object to manage access.\n",
    "\n",
    "# Situation when usage is suggested\n",
    "* __Virtual Proxy__ - Creation of expensive / resource heavy objects.\n",
    "* __Protection Proxy__ - Access management, for example user / application access privileges.\n",
    "* __Smart Referencing__ - Executing additional operation during object creation.\n",
    "  * Checking if object is locked by different process.\n",
    "  * Counting references to an object to free memory when all references are gone.\n",
    "  * Loading static data during reference creation.\n",
    "\n",
    "# Structure\n",
    "![title](img/proxy.jpg)\n",
    "\n",
    "# Implementation"
   ]
  },
  {
   "cell_type": "markdown",
   "source": [
    "### Protection Proxy"
   ],
   "metadata": {
    "collapsed": false,
    "pycharm": {
     "name": "#%% md\n"
    }
   }
  },
  {
   "cell_type": "code",
   "source": [
    "class User:\n",
    "\n",
    "    def __init__(self, username: str, password: str):\n",
    "        self.username = username\n",
    "        self.password = password\n",
    "\n",
    "\n",
    "class Account:\n",
    "\n",
    "    def __init__(self, user: User):\n",
    "        self.user = user\n",
    "        self.balance = 1000\n",
    "\n",
    "    def withdraw(self, amount: int):\n",
    "        self.balance -= amount\n",
    "        print(f\"Withdrawn: {amount}$ -- Balance: {self.balance}$\")\n",
    "\n",
    "    def deposit(self, amount: int):\n",
    "        self.balance += amount\n",
    "        print(f\"Deposited: {amount}$ -- Balance: {self.balance}$\")\n",
    "\n",
    "# REMOVE\n",
    "class AccountProxy:\n",
    "\n",
    "    def __init__(self, user: User):\n",
    "        self.account = Account(user)\n",
    "\n",
    "    def withdraw(self, amount: int):\n",
    "        password = input(\"Provide password to confirm:\")\n",
    "        if password == self.account.user.password:\n",
    "            self.account.withdraw(amount)\n",
    "        else:\n",
    "            raise ValueError(\"Withdrawal failed, wrong password\")\n",
    "\n",
    "    def deposit(self, amount: int):\n",
    "        self.account.deposit(amount)\n",
    "\n",
    "\n",
    "user = User(\"JohnDoe\", \"password123\")\n",
    "account = Account(user)\n",
    "account.withdraw(100)\n",
    "\n",
    "# REMOVE\n",
    "user = User(\"JohnDoe\", \"password123\")\n",
    "account = AccountProxy(user)\n",
    "account.withdraw(100)"
   ],
   "metadata": {
    "collapsed": false,
    "pycharm": {
     "name": "#%%\n"
    }
   },
   "execution_count": 4,
   "outputs": [
    {
     "name": "stdout",
     "output_type": "stream",
     "text": [
      "Withdrawn: 100$ -- Balance: 900$\n"
     ]
    },
    {
     "ename": "ValueError",
     "evalue": "Withdrawal failed, wrong password",
     "output_type": "error",
     "traceback": [
      "\u001B[0;31m---------------------------------------------------------------------------\u001B[0m",
      "\u001B[0;31mValueError\u001B[0m                                Traceback (most recent call last)",
      "\u001B[0;32m/tmp/ipykernel_53906/793436442.py\u001B[0m in \u001B[0;36m<module>\u001B[0;34m\u001B[0m\n\u001B[1;32m     45\u001B[0m \u001B[0muser\u001B[0m \u001B[0;34m=\u001B[0m \u001B[0mUser\u001B[0m\u001B[0;34m(\u001B[0m\u001B[0;34m\"JohnDoe\"\u001B[0m\u001B[0;34m,\u001B[0m \u001B[0;34m\"password123\"\u001B[0m\u001B[0;34m)\u001B[0m\u001B[0;34m\u001B[0m\u001B[0;34m\u001B[0m\u001B[0m\n\u001B[1;32m     46\u001B[0m \u001B[0maccount\u001B[0m \u001B[0;34m=\u001B[0m \u001B[0mAccountProxy\u001B[0m\u001B[0;34m(\u001B[0m\u001B[0muser\u001B[0m\u001B[0;34m)\u001B[0m\u001B[0;34m\u001B[0m\u001B[0;34m\u001B[0m\u001B[0m\n\u001B[0;32m---> 47\u001B[0;31m \u001B[0maccount\u001B[0m\u001B[0;34m.\u001B[0m\u001B[0mwithdraw\u001B[0m\u001B[0;34m(\u001B[0m\u001B[0;36m100\u001B[0m\u001B[0;34m)\u001B[0m\u001B[0;34m\u001B[0m\u001B[0;34m\u001B[0m\u001B[0m\n\u001B[0m",
      "\u001B[0;32m/tmp/ipykernel_53906/793436442.py\u001B[0m in \u001B[0;36mwithdraw\u001B[0;34m(self, amount)\u001B[0m\n\u001B[1;32m     33\u001B[0m             \u001B[0mself\u001B[0m\u001B[0;34m.\u001B[0m\u001B[0maccount\u001B[0m\u001B[0;34m.\u001B[0m\u001B[0mwithdraw\u001B[0m\u001B[0;34m(\u001B[0m\u001B[0mamount\u001B[0m\u001B[0;34m)\u001B[0m\u001B[0;34m\u001B[0m\u001B[0;34m\u001B[0m\u001B[0m\n\u001B[1;32m     34\u001B[0m         \u001B[0;32melse\u001B[0m\u001B[0;34m:\u001B[0m\u001B[0;34m\u001B[0m\u001B[0;34m\u001B[0m\u001B[0m\n\u001B[0;32m---> 35\u001B[0;31m             \u001B[0;32mraise\u001B[0m \u001B[0mValueError\u001B[0m\u001B[0;34m(\u001B[0m\u001B[0;34m\"Withdrawal failed, wrong password\"\u001B[0m\u001B[0;34m)\u001B[0m\u001B[0;34m\u001B[0m\u001B[0;34m\u001B[0m\u001B[0m\n\u001B[0m\u001B[1;32m     36\u001B[0m \u001B[0;34m\u001B[0m\u001B[0m\n\u001B[1;32m     37\u001B[0m     \u001B[0;32mdef\u001B[0m \u001B[0mdeposit\u001B[0m\u001B[0;34m(\u001B[0m\u001B[0mself\u001B[0m\u001B[0;34m,\u001B[0m \u001B[0mamount\u001B[0m\u001B[0;34m:\u001B[0m \u001B[0mint\u001B[0m\u001B[0;34m)\u001B[0m\u001B[0;34m:\u001B[0m\u001B[0;34m\u001B[0m\u001B[0;34m\u001B[0m\u001B[0m\n",
      "\u001B[0;31mValueError\u001B[0m: Withdrawal failed, wrong password"
     ]
    }
   ]
  },
  {
   "cell_type": "markdown",
   "source": [
    "### Virtual Proxy"
   ],
   "metadata": {
    "collapsed": false,
    "pycharm": {
     "name": "#%% md\n"
    }
   }
  },
  {
   "cell_type": "code",
   "execution_count": 6,
   "outputs": [
    {
     "name": "stdout",
     "output_type": "stream",
     "text": [
      "Loading the image.\n"
     ]
    }
   ],
   "source": [
    "class Image:\n",
    "\n",
    "    def __init__(self, filename: str):\n",
    "        self.filename = filename\n",
    "        print(\"Loading the image.\")\n",
    "\n",
    "    def draw(self):\n",
    "        print(\"Drawing the image.\")\n",
    "\n",
    "\n",
    "image = Image(\"bananas.jpg\")\n",
    "image.draw()"
   ],
   "metadata": {
    "collapsed": false,
    "pycharm": {
     "name": "#%%\n"
    }
   }
  },
  {
   "cell_type": "code",
   "execution_count": 8,
   "outputs": [
    {
     "name": "stdout",
     "output_type": "stream",
     "text": [
      "Loading the image.\n",
      "Drawing the image.\n"
     ]
    }
   ],
   "source": [
    "# REMOVE\n",
    "class ImageProxy:\n",
    "\n",
    "    def __init__(self, filename: str):\n",
    "        self.filename = filename\n",
    "        self.image = None\n",
    "\n",
    "    def draw(self):\n",
    "        self.image = self.image or Image(self.filename)\n",
    "        self.image.draw()\n",
    "\n",
    "\n",
    "image = ImageProxy(\"bananas.jpg\")\n",
    "image.draw()"
   ],
   "metadata": {
    "collapsed": false,
    "pycharm": {
     "name": "#%%\n"
    }
   }
  },
  {
   "cell_type": "markdown",
   "source": [
    "### Smart Referencing"
   ],
   "metadata": {
    "collapsed": false,
    "pycharm": {
     "name": "#%% md\n"
    }
   }
  },
  {
   "cell_type": "code",
   "execution_count": 13,
   "outputs": [
    {
     "name": "stdout",
     "output_type": "stream",
     "text": [
      "Creating Image object for bananas.jpg.\n",
      "Loading the image.\n",
      "Creation completed.\n",
      "Drawing Image.\n",
      "Drawing the image.\n",
      "Image drawn.\n"
     ]
    }
   ],
   "source": [
    "# REMOVE\n",
    "class ImageLogger:\n",
    "\n",
    "    def __init__(self, filename: str):\n",
    "        print(f\"Creating Image object for {filename}.\")\n",
    "        self.image = Image(filename)\n",
    "        print(\"Creation completed.\")\n",
    "\n",
    "    def draw(self):\n",
    "        print(\"Drawing Image.\")\n",
    "        self.image.draw()\n",
    "        print(\"Image drawn.\")\n",
    "\n",
    "\n",
    "image = ImageLogger(\"bananas.jpg\")\n",
    "image.draw()"
   ],
   "metadata": {
    "collapsed": false,
    "pycharm": {
     "name": "#%%\n"
    }
   }
  },
  {
   "cell_type": "markdown",
   "source": [
    "# Consequences\n",
    "Proxy introduces additional layer during object access.\n",
    "* Remote Proxy may hide the fact that used object comes from different address space.\n",
    "* Virtual Proxy my allow for optimization, by creating objects when they are necessary.\n",
    "* Protection Proxy and Smart Referencing provide means to execute additional operations during object access.\n"
   ],
   "metadata": {
    "collapsed": false,
    "pycharm": {
     "name": "#%% md\n"
    }
   }
  }
 ],
 "metadata": {
  "kernelspec": {
   "display_name": "Python 3",
   "language": "python",
   "name": "python3"
  },
  "language_info": {
   "codemirror_mode": {
    "name": "ipython",
    "version": 2
   },
   "file_extension": ".py",
   "mimetype": "text/x-python",
   "name": "python",
   "nbconvert_exporter": "python",
   "pygments_lexer": "ipython2",
   "version": "2.7.6"
  }
 },
 "nbformat": 4,
 "nbformat_minor": 0
}