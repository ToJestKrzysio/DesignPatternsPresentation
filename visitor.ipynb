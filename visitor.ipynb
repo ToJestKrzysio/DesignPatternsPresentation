{
 "cells": [
  {
   "cell_type": "markdown",
   "metadata": {
    "collapsed": true,
    "pycharm": {
     "name": "#%% md\n"
    }
   },
   "source": [
    "# Use-case\n",
    "Allows for executing an operation on the datastructure without modifying classes of the elements it works with.\n",
    "\n",
    "# Situation when usage is suggested\n",
    "* Object structure consists of many classes of many interfaces, and depending on the concrete implementation different resolution is required.\n",
    "* To avoid mess in class representing datastructure, when multiple operation would have to be defined and executed, or when given operations are shared between multiple datastructures.\n",
    "* In case new operation on the datastructure are implemented frequently, to avoid redefining the interface of said structure.\n",
    "\n",
    "# Structure\n",
    "![title](img/visitor.jpg)\n",
    "\n",
    "# Implementation"
   ]
  },
  {
   "cell_type": "code",
   "execution_count": 1,
   "outputs": [],
   "source": [
    "class Visitor:\n",
    "    _methods = {}\n",
    "\n",
    "    @staticmethod\n",
    "    def _qualname(obj):\n",
    "        \"\"\"Get the fully-qualified name of an object (including module).\"\"\"\n",
    "        return obj.__module__ + '.' + obj.__qualname__\n",
    "\n",
    "    def _declaring_class(self, obj):\n",
    "        \"\"\"Get the name of the class that declared an object.\"\"\"\n",
    "        name = self._qualname(obj)\n",
    "        return name[:name.rfind('.')]\n",
    "\n",
    "    @staticmethod\n",
    "    def _visitor_impl(instance, arg):\n",
    "        \"\"\"Actual visitor method implementation.\"\"\"\n",
    "        method = Visitor._methods[(Visitor._qualname(type(instance)), type(arg))]\n",
    "        return method(instance, arg)\n",
    "\n",
    "    def __call__(self, arg_type):\n",
    "        \"\"\"Decorator that creates a visitor method.\"\"\"\n",
    "\n",
    "        def decorator(fn):\n",
    "            declaring_class = self._declaring_class(fn)\n",
    "            type(self)._methods[(declaring_class, arg_type)] = fn\n",
    "            return self._visitor_impl\n",
    "\n",
    "        return decorator\n",
    "\n",
    "\n",
    "visitor = Visitor()"
   ],
   "metadata": {
    "collapsed": false,
    "pycharm": {
     "name": "#%%\n"
    }
   }
  },
  {
   "cell_type": "code",
   "execution_count": 19,
   "outputs": [],
   "source": [
    "class Expression:\n",
    "    def accept(self, visitor):\n",
    "        visitor.visit(self)\n",
    "\n",
    "\n",
    "class NumericExpression(Expression):\n",
    "    def __init__(self, value):\n",
    "        self.value = value\n",
    "\n",
    "\n",
    "class AdditionExpression(Expression):\n",
    "    def __init__(self, left, right):\n",
    "        self.left = left\n",
    "        self.right = right\n",
    "\n",
    "\n",
    "# REMOVE\n",
    "class MultiplicationExpression(Expression):\n",
    "    def __init__(self, left, right):\n",
    "        self.left = left\n",
    "        self.right = right\n",
    "\n",
    "\n",
    "expression_1 = AdditionExpression(\n",
    "    NumericExpression(1),\n",
    "    AdditionExpression(\n",
    "        NumericExpression(2),\n",
    "        NumericExpression(3)\n",
    "    )\n",
    ")\n",
    "\n",
    "expression_2 = MultiplicationExpression(\n",
    "    AdditionExpression(\n",
    "        NumericExpression(1),\n",
    "        NumericExpression(1)\n",
    "    ),\n",
    "    AdditionExpression(\n",
    "        NumericExpression(2),\n",
    "        NumericExpression(2)\n",
    "    )\n",
    ")"
   ],
   "metadata": {
    "collapsed": false,
    "pycharm": {
     "name": "#%%\n"
    }
   }
  },
  {
   "cell_type": "code",
   "execution_count": 20,
   "outputs": [
    {
     "name": "stdout",
     "output_type": "stream",
     "text": [
      "(1+(2+3))\n",
      "((1+1)*(2+2))\n"
     ]
    }
   ],
   "source": [
    "class ExpressionPrinter:\n",
    "    def __init__(self):\n",
    "        self.buffer = []\n",
    "\n",
    "    @visitor(NumericExpression)\n",
    "    def visit(self, ne):\n",
    "        self.buffer.append(str(ne.value))\n",
    "\n",
    "    @visitor(AdditionExpression)\n",
    "    def visit(self, ae):\n",
    "        self.buffer.append('(')\n",
    "        ae.left.accept(self)\n",
    "        self.buffer.append('+')\n",
    "        ae.right.accept(self)\n",
    "        self.buffer.append(')')\n",
    "\n",
    "    # REMOVE\n",
    "    @visitor(MultiplicationExpression)\n",
    "    def visit(self, me):\n",
    "        self.buffer.append('(')\n",
    "        me.left.accept(self)\n",
    "        self.buffer.append('*')\n",
    "        me.right.accept(self)\n",
    "        self.buffer.append(')')\n",
    "\n",
    "    def __str__(self):\n",
    "        return ''.join(self.buffer)\n",
    "\n",
    "\n",
    "printer = ExpressionPrinter()\n",
    "printer.visit(expression_1)\n",
    "print(printer)\n",
    "\n",
    "printer = ExpressionPrinter()\n",
    "printer.visit(expression_2)\n",
    "print(printer)"
   ],
   "metadata": {
    "collapsed": false,
    "pycharm": {
     "name": "#%%\n"
    }
   }
  },
  {
   "cell_type": "code",
   "execution_count": 21,
   "outputs": [
    {
     "name": "stdout",
     "output_type": "stream",
     "text": [
      "6\n",
      "8\n"
     ]
    }
   ],
   "source": [
    "# REMOVE\n",
    "class ExpressionSolver:\n",
    "    def __init__(self):\n",
    "        self.value = None\n",
    "\n",
    "    @visitor(NumericExpression)\n",
    "    def visit(self, ne):\n",
    "        self.value = ne.value\n",
    "\n",
    "    @visitor(AdditionExpression)\n",
    "    def visit(self, ae):\n",
    "        ae.left.accept(self)\n",
    "        temp = self.value\n",
    "        ae.right.accept(self)\n",
    "        self.value += temp\n",
    "\n",
    "    @visitor(MultiplicationExpression)\n",
    "    def visit(self, me):\n",
    "        me.left.accept(self)\n",
    "        temp = self.value\n",
    "        me.right.accept(self)\n",
    "        self.value *= temp\n",
    "\n",
    "    def __str__(self):\n",
    "        return f\"{self.value}\"\n",
    "\n",
    "printer = ExpressionSolver()\n",
    "printer.visit(expression_1)\n",
    "print(printer)\n",
    "\n",
    "printer = ExpressionSolver()\n",
    "printer.visit(expression_2)\n",
    "print(printer)"
   ],
   "metadata": {
    "collapsed": false,
    "pycharm": {
     "name": "#%%\n"
    }
   }
  },
  {
   "cell_type": "markdown",
   "source": [
    "# Consequences\n",
    "* __Simplifies implementation of new operations__ - Implementing new operation for datastructure is done by simply adding new visitor, on the contrary to modifying every single class to od so without the given design pattern.\n",
    "\n",
    "* __Bundling of operations__ - In case of multiple operation required to perform a given task (visit) all of them will be placed inside one of implementations of Visitor class.\n",
    "* __Allows visiting even unrelated objects__ - Objects do not have to inherit from the same parent to apply visitor pattern.\n",
    "* __Complicates adding new datastructures__ - When datastructure inherits an interface adding a new datastructure forces implementation of method to handle that class in the visitor.\n",
    "* __May violate encapsulation__ - While using visitor pattern, it may be necessary to allow the visitor to use methods that modify internal state of the object, which may violate encapsulation.\n"
   ],
   "metadata": {
    "collapsed": false,
    "pycharm": {
     "name": "#%% md\n"
    }
   }
  }
 ],
 "metadata": {
  "kernelspec": {
   "display_name": "Python 3",
   "language": "python",
   "name": "python3"
  },
  "language_info": {
   "codemirror_mode": {
    "name": "ipython",
    "version": 2
   },
   "file_extension": ".py",
   "mimetype": "text/x-python",
   "name": "python",
   "nbconvert_exporter": "python",
   "pygments_lexer": "ipython2",
   "version": "2.7.6"
  }
 },
 "nbformat": 4,
 "nbformat_minor": 0
}